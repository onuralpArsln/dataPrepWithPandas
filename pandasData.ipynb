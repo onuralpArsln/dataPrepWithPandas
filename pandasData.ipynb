{
 "cells": [
  {
   "cell_type": "markdown",
   "metadata": {},
   "source": [
    "# Part 0 : Introduction\n",
    "_____"
   ]
  },
  {
   "cell_type": "markdown",
   "metadata": {},
   "source": [
    "In this tutorial we will use pandas to analyze the csv file and prepare it for a seq2seq model training"
   ]
  },
  {
   "cell_type": "markdown",
   "metadata": {},
   "source": [
    "Using pandas we can sort the data suitable for our needs. To achieve this we need to understand how the data is interpreted."
   ]
  },
  {
   "cell_type": "markdown",
   "metadata": {},
   "source": [
    "Current dataset in this example is results of radiology reports and the diagnosis results"
   ]
  },
  {
   "cell_type": "markdown",
   "metadata": {},
   "source": [
    "#"
   ]
  },
  {
   "cell_type": "markdown",
   "metadata": {},
   "source": [
    "# Part 1: Pandas Basics\n",
    "_____"
   ]
  },
  {
   "cell_type": "markdown",
   "metadata": {},
   "source": [
    "below you can see how to import the data presented in csv to your python code"
   ]
  },
  {
   "cell_type": "code",
   "execution_count": 1,
   "metadata": {},
   "outputs": [],
   "source": [
    "import pandas as pd"
   ]
  },
  {
   "cell_type": "code",
   "execution_count": 2,
   "metadata": {},
   "outputs": [],
   "source": [
    "dataFrame=pd.read_csv(\"ReportsDATASET.csv\")"
   ]
  },
  {
   "cell_type": "markdown",
   "metadata": {},
   "source": [
    "lets see details about your data, describe is much more useful for numeric data but still you can see that there are 1984 text values and 1982 unique values"
   ]
  },
  {
   "cell_type": "code",
   "execution_count": 3,
   "metadata": {},
   "outputs": [
    {
     "data": {
      "text/html": [
       "<div>\n",
       "<style scoped>\n",
       "    .dataframe tbody tr th:only-of-type {\n",
       "        vertical-align: middle;\n",
       "    }\n",
       "\n",
       "    .dataframe tbody tr th {\n",
       "        vertical-align: top;\n",
       "    }\n",
       "\n",
       "    .dataframe thead th {\n",
       "        text-align: right;\n",
       "    }\n",
       "</style>\n",
       "<table border=\"1\" class=\"dataframe\">\n",
       "  <thead>\n",
       "    <tr style=\"text-align: right;\">\n",
       "      <th></th>\n",
       "      <th>Text</th>\n",
       "    </tr>\n",
       "  </thead>\n",
       "  <tbody>\n",
       "    <tr>\n",
       "      <th>count</th>\n",
       "      <td>1984</td>\n",
       "    </tr>\n",
       "    <tr>\n",
       "      <th>unique</th>\n",
       "      <td>1982</td>\n",
       "    </tr>\n",
       "    <tr>\n",
       "      <th>top</th>\n",
       "      <td>\\nSIGNATURE\\nXXXX\\n\\nRADIOLOGY REPORT\\nchest p...</td>\n",
       "    </tr>\n",
       "    <tr>\n",
       "      <th>freq</th>\n",
       "      <td>2</td>\n",
       "    </tr>\n",
       "  </tbody>\n",
       "</table>\n",
       "</div>"
      ],
      "text/plain": [
       "                                                     Text\n",
       "count                                                1984\n",
       "unique                                               1982\n",
       "top     \\nSIGNATURE\\nXXXX\\n\\nRADIOLOGY REPORT\\nchest p...\n",
       "freq                                                    2"
      ]
     },
     "execution_count": 3,
     "metadata": {},
     "output_type": "execute_result"
    }
   ],
   "source": [
    "dataFrame.describe()"
   ]
  },
  {
   "cell_type": "markdown",
   "metadata": {},
   "source": [
    "with looking at the shape of dataframe we can see row and columns size"
   ]
  },
  {
   "cell_type": "code",
   "execution_count": 5,
   "metadata": {},
   "outputs": [
    {
     "data": {
      "text/plain": [
       "(1984, 1)"
      ]
     },
     "execution_count": 5,
     "metadata": {},
     "output_type": "execute_result"
    }
   ],
   "source": [
    "dataFrame.shape"
   ]
  },
  {
   "cell_type": "markdown",
   "metadata": {},
   "source": [
    "with head() method you can see first lines"
   ]
  },
  {
   "cell_type": "code",
   "execution_count": 6,
   "metadata": {},
   "outputs": [
    {
     "data": {
      "text/html": [
       "<div>\n",
       "<style scoped>\n",
       "    .dataframe tbody tr th:only-of-type {\n",
       "        vertical-align: middle;\n",
       "    }\n",
       "\n",
       "    .dataframe tbody tr th {\n",
       "        vertical-align: top;\n",
       "    }\n",
       "\n",
       "    .dataframe thead th {\n",
       "        text-align: right;\n",
       "    }\n",
       "</style>\n",
       "<table border=\"1\" class=\"dataframe\">\n",
       "  <thead>\n",
       "    <tr style=\"text-align: right;\">\n",
       "      <th></th>\n",
       "      <th>Text</th>\n",
       "    </tr>\n",
       "  </thead>\n",
       "  <tbody>\n",
       "    <tr>\n",
       "      <th>0</th>\n",
       "      <td>\\nChest PA-Lat XR\\n\\nImaging Study\\nXray Chest...</td>\n",
       "    </tr>\n",
       "    <tr>\n",
       "      <th>1</th>\n",
       "      <td>EXAM(S): Chest, 2 views, frontal and lateral\\n...</td>\n",
       "    </tr>\n",
       "    <tr>\n",
       "      <th>2</th>\n",
       "      <td>\\nExam\\nXray Chest PA and Lateral\\n\\nDate\\nXXX...</td>\n",
       "    </tr>\n",
       "    <tr>\n",
       "      <th>3</th>\n",
       "      <td>\\nRADIOLOGY REPORT\\n\\nExamination\\nPA and late...</td>\n",
       "    </tr>\n",
       "    <tr>\n",
       "      <th>4</th>\n",
       "      <td>\\nChest PA-Lat XR\\n\\nImaging Study\\nXray Chest...</td>\n",
       "    </tr>\n",
       "  </tbody>\n",
       "</table>\n",
       "</div>"
      ],
      "text/plain": [
       "                                                Text\n",
       "0  \\nChest PA-Lat XR\\n\\nImaging Study\\nXray Chest...\n",
       "1  EXAM(S): Chest, 2 views, frontal and lateral\\n...\n",
       "2  \\nExam\\nXray Chest PA and Lateral\\n\\nDate\\nXXX...\n",
       "3  \\nRADIOLOGY REPORT\\n\\nExamination\\nPA and late...\n",
       "4  \\nChest PA-Lat XR\\n\\nImaging Study\\nXray Chest..."
      ]
     },
     "execution_count": 6,
     "metadata": {},
     "output_type": "execute_result"
    }
   ],
   "source": [
    "dataFrame.head() "
   ]
  },
  {
   "cell_type": "markdown",
   "metadata": {},
   "source": [
    "lets unlimit displayed width"
   ]
  },
  {
   "cell_type": "code",
   "execution_count": 7,
   "metadata": {},
   "outputs": [
    {
     "data": {
      "text/html": [
       "<div>\n",
       "<style scoped>\n",
       "    .dataframe tbody tr th:only-of-type {\n",
       "        vertical-align: middle;\n",
       "    }\n",
       "\n",
       "    .dataframe tbody tr th {\n",
       "        vertical-align: top;\n",
       "    }\n",
       "\n",
       "    .dataframe thead th {\n",
       "        text-align: right;\n",
       "    }\n",
       "</style>\n",
       "<table border=\"1\" class=\"dataframe\">\n",
       "  <thead>\n",
       "    <tr style=\"text-align: right;\">\n",
       "      <th></th>\n",
       "      <th>Text</th>\n",
       "    </tr>\n",
       "  </thead>\n",
       "  <tbody>\n",
       "    <tr>\n",
       "      <th>0</th>\n",
       "      <td>\\nChest PA-Lat XR\\n\\nImaging Study\\nXray Chest PA and Lateral\\nExam: 2 views of the chest XXXX/XXXX.\\n \\nComparison: None.\\n \\nIndication: Positive TB test\\n \\nFindings:\\nThe cardiac silhouette and mediastinum size are within normal limits.\\nThere is no pulmonary edema. There is no focal consolidation. There\\nare no XXXX of a pleural effusion. There is no evidence of\\npneumothorax.\\n \\nImpression:\\nNormal chest x-XXXX. \\nThis examination and reported findings have been reviewed and\\nconfirmed by the undersigned.\\n\\n</td>\n",
       "    </tr>\n",
       "    <tr>\n",
       "      <th>1</th>\n",
       "      <td>EXAM(S): Chest, 2 views, frontal and lateral\\n\\nDATE\\nXXXX\\n\\nCOMPARISON\\nNone.\\n\\nINDICATION\\nPreop bariatric surgery.\\n\\nFINDINGS\\nBorderline cardiomegaly. Midline sternotomy XXXX. Enlarged pulmonary arteries. Clear lungs. Inferior XXXX XXXX XXXX.\\n\\nIMPRESSION\\nNo acute pulmonary findings. \\n XXXX XXXX for the opportunity to care for your patient. If XXXX have any questions regarding this report, please XXXX the radiologist, Dr. XXXX XXXX, at XXXX.\\n</td>\n",
       "    </tr>\n",
       "    <tr>\n",
       "      <th>2</th>\n",
       "      <td>\\nExam\\nXray Chest PA and Lateral\\n\\nDate\\nXXXX\\n\\nHistory\\nrib pain after a XXXX, XXXX XXXX steps this XXXX. Pain to R back, R elbow and R rib XXXX, no previous heart or lung hx, non-XXXX, no hx ca\\n\\nImpression\\nNo displaced rib fractures, pneumothorax, or pleural effusion identified. Well-expanded and clear lungs. Mediastinal contour within normal limits. No acute cardiopulmonary abnormality identified.\\n</td>\n",
       "    </tr>\n",
       "    <tr>\n",
       "      <th>3</th>\n",
       "      <td>\\nRADIOLOGY REPORT\\n\\nExamination\\nPA and lateral views of the chest XXXX, XXXX at XXXX hours History: XXXX-year-old XXXX with XXXX. Comparison: None available Findings: There are diffuse bilateral interstitial and alveolar opacities consistent with chronic obstructive lung disease and bullous emphysema. There are irregular opacities in the left lung apex, that could represent a cavitary lesion in the left lung apex.There are streaky opacities in the right upper lobe, XXXX scarring. The cardiomediastinal silhouette is normal in size and contour. There is no pneumothorax or large pleural effusion. Transcribed by - PSC Transcription Date - XXXX\\n\\nIMPRESSION\\n1. Bullous emphysema and interstitial fibrosis. 2. Probably scarring in the left apex, although difficult to exclude a cavitary lesion. 3. Opacities in the bilateral upper lobes could represent scarring, however the absence of comparison exam, recommend short interval followup radiograph or CT thorax to document resolution.\\n\\nSIGNATURE\\nXXXX\\n\\n</td>\n",
       "    </tr>\n",
       "    <tr>\n",
       "      <th>4</th>\n",
       "      <td>\\nChest PA-Lat XR\\n\\nImaging Study\\nXray Chest PA and Lateral\\nEXAMINATION: CHEST ( FRONTAL AND LATERAL): XXXX, XXXX XXXX PM \\n \\nCLINICAL INDICATION: Chest and nasal congestion.\\n \\nCOMPARISXXXX/XXXX.\\n \\nFINDINGS:\\nThe cardiomediastinal silhouette and pulmonary vasculature are within\\nnormal limits. There is no pneumothorax or pleural effusion. There\\nare no focal areas of consolidation. Cholecystectomy clips are\\npresent. Small T-spine osteophytes. There is biapical pleural\\nthickening, unchanged from prior. Mildly hyperexpanded lungs.\\n \\nIMPRESSION:\\nNo acute cardiopulmonary abnormality.\\n\\n</td>\n",
       "    </tr>\n",
       "  </tbody>\n",
       "</table>\n",
       "</div>"
      ],
      "text/plain": [
       "                                                                                                                                                                                                                                                                                                                                                                                                                                                                                                                                                                                                                                                                                                                                                                                                                                                                                                                                                                                                                                                     Text\n",
       "0                                                                                                                                                                                                                                                                                                                                                                                                                                                                                                               \\nChest PA-Lat XR\\n\\nImaging Study\\nXray Chest PA and Lateral\\nExam: 2 views of the chest XXXX/XXXX.\\n \\nComparison: None.\\n \\nIndication: Positive TB test\\n \\nFindings:\\nThe cardiac silhouette and mediastinum size are within normal limits.\\nThere is no pulmonary edema. There is no focal consolidation. There\\nare no XXXX of a pleural effusion. There is no evidence of\\npneumothorax.\\n \\nImpression:\\nNormal chest x-XXXX. \\nThis examination and reported findings have been reviewed and\\nconfirmed by the undersigned.\\n\\n\n",
       "1                                                                                                                                                                                                                                                                                                                                                                                                                                                                                                                                                                               EXAM(S): Chest, 2 views, frontal and lateral\\n\\nDATE\\nXXXX\\n\\nCOMPARISON\\nNone.\\n\\nINDICATION\\nPreop bariatric surgery.\\n\\nFINDINGS\\nBorderline cardiomegaly. Midline sternotomy XXXX. Enlarged pulmonary arteries. Clear lungs. Inferior XXXX XXXX XXXX.\\n\\nIMPRESSION\\nNo acute pulmonary findings. \\n XXXX XXXX for the opportunity to care for your patient. If XXXX have any questions regarding this report, please XXXX the radiologist, Dr. XXXX XXXX, at XXXX.\\n\n",
       "2                                                                                                                                                                                                                                                                                                                                                                                                                                                                                                                                                                                                                             \\nExam\\nXray Chest PA and Lateral\\n\\nDate\\nXXXX\\n\\nHistory\\nrib pain after a XXXX, XXXX XXXX steps this XXXX. Pain to R back, R elbow and R rib XXXX, no previous heart or lung hx, non-XXXX, no hx ca\\n\\nImpression\\nNo displaced rib fractures, pneumothorax, or pleural effusion identified. Well-expanded and clear lungs. Mediastinal contour within normal limits. No acute cardiopulmonary abnormality identified.\\n\n",
       "3  \\nRADIOLOGY REPORT\\n\\nExamination\\nPA and lateral views of the chest XXXX, XXXX at XXXX hours History: XXXX-year-old XXXX with XXXX. Comparison: None available Findings: There are diffuse bilateral interstitial and alveolar opacities consistent with chronic obstructive lung disease and bullous emphysema. There are irregular opacities in the left lung apex, that could represent a cavitary lesion in the left lung apex.There are streaky opacities in the right upper lobe, XXXX scarring. The cardiomediastinal silhouette is normal in size and contour. There is no pneumothorax or large pleural effusion. Transcribed by - PSC Transcription Date - XXXX\\n\\nIMPRESSION\\n1. Bullous emphysema and interstitial fibrosis. 2. Probably scarring in the left apex, although difficult to exclude a cavitary lesion. 3. Opacities in the bilateral upper lobes could represent scarring, however the absence of comparison exam, recommend short interval followup radiograph or CT thorax to document resolution.\\n\\nSIGNATURE\\nXXXX\\n\\n\n",
       "4                                                                                                                                                                                                                                                                                                                                                                                                                             \\nChest PA-Lat XR\\n\\nImaging Study\\nXray Chest PA and Lateral\\nEXAMINATION: CHEST ( FRONTAL AND LATERAL): XXXX, XXXX XXXX PM \\n \\nCLINICAL INDICATION: Chest and nasal congestion.\\n \\nCOMPARISXXXX/XXXX.\\n \\nFINDINGS:\\nThe cardiomediastinal silhouette and pulmonary vasculature are within\\nnormal limits. There is no pneumothorax or pleural effusion. There\\nare no focal areas of consolidation. Cholecystectomy clips are\\npresent. Small T-spine osteophytes. There is biapical pleural\\nthickening, unchanged from prior. Mildly hyperexpanded lungs.\\n \\nIMPRESSION:\\nNo acute cardiopulmonary abnormality.\\n\\n"
      ]
     },
     "execution_count": 7,
     "metadata": {},
     "output_type": "execute_result"
    }
   ],
   "source": [
    "pd.set_option('display.max_colwidth', None)\n",
    "dataFrame.head()"
   ]
  },
  {
   "cell_type": "markdown",
   "metadata": {},
   "source": [
    "These are quite long lines but we have very important key words\n",
    "\n",
    "Findings and Impressions \n",
    "\n",
    "where findigs tells us what is happened \n",
    "\n",
    "and \n",
    "\n",
    "Impressions the diagnosis by looking at what happened\n",
    "\n",
    "lets search for keywords and see how many lines have does keywords"
   ]
  },
  {
   "cell_type": "code",
   "execution_count": 11,
   "metadata": {},
   "outputs": [
    {
     "name": "stdout",
     "output_type": "stream",
     "text": [
      "Number of total rows 1984 \n",
      "Number of rows containing the keywords : 1982\n"
     ]
    }
   ],
   "source": [
    "# List you keywords\n",
    "keywords = ['IMPRESSION', 'FINDINGS']\n",
    "\n",
    "# dataFrame[\"Text\"] is column selection\n",
    "# str.contains checsk if keywords exits\n",
    "# '|'.join(keywords) joins keywords with or so if one of them exits we count\n",
    "# case=False makes it case in sensitive\n",
    "# na=False makes NaN values counts as not includings\n",
    "\n",
    "mask = dataFrame['Text'].str.contains('|'.join(keywords), case=False, na=False)\n",
    "\n",
    "# Count the number of rows containing the keywords\n",
    "count = mask.sum()\n",
    "\n",
    "print(f'Number of total rows {dataFrame.shape[0]} ')\n",
    "print(f'Number of rows containing the keywords : {count}')"
   ]
  },
  {
   "cell_type": "markdown",
   "metadata": {},
   "source": [
    "all lines except  2, lets see what are those lines. We already created a mask lets invert it and apply it "
   ]
  },
  {
   "cell_type": "code",
   "execution_count": 12,
   "metadata": {},
   "outputs": [
    {
     "name": "stdout",
     "output_type": "stream",
     "text": [
      "                                                                   Text\n",
      "15    \\nChest PA-Lat XR\\n\\nImaging Study\\nXray Chest PA and Lateral\\n\\n\n",
      "1501    \\nChest PA-Lat XR\\n\\nImaging Study\\nXR Chest PA and Lateral\\n\\n\n"
     ]
    }
   ],
   "source": [
    "# Invert the mask to get rows that do not contain the keywords\n",
    "inverse_mask = ~mask\n",
    "\n",
    "# Filter the DataFrame using the inverted mask\n",
    "rows_without_keywords = dataFrame[inverse_mask]\n",
    "\n",
    "print(rows_without_keywords)"
   ]
  },
  {
   "cell_type": "markdown",
   "metadata": {},
   "source": [
    "Looks like those two lines are not containing important data.   \n",
    "\n",
    "Lets see if is ther lines with only one of our keywords\n"
   ]
  },
  {
   "cell_type": "code",
   "execution_count": 18,
   "metadata": {},
   "outputs": [
    {
     "name": "stdout",
     "output_type": "stream",
     "text": [
      "                                                                                                                                                                                                                                                                                                                                                                                                                                                                                               Text\n",
      "2                                                                       \\nExam\\nXray Chest PA and Lateral\\n\\nDate\\nXXXX\\n\\nHistory\\nrib pain after a XXXX, XXXX XXXX steps this XXXX. Pain to R back, R elbow and R rib XXXX, no previous heart or lung hx, non-XXXX, no hx ca\\n\\nImpression\\nNo displaced rib fractures, pneumothorax, or pleural effusion identified. Well-expanded and clear lungs. Mediastinal contour within normal limits. No acute cardiopulmonary abnormality identified.\\n\n",
      "26                                                                                           \\nEXAM\\nPA and LAT view CHEST XXXX, XXXX XXXX PM\\n\\nIndication\\nChronic XXXX XXXX\\n\\nComparisons\\nXXXX\\n\\nDiscussion\\nLungs are overall hyperexpanded with flattening of the diaphragms. No focal consolidation. No pleural effusions or pneumothoraces. Heart and mediastinum of normal size and contour. Degenerative changes in the thoracic spine.\\n\\nImpression\\nHyperexpanded but clear lungs.\\n\n",
      "28  EXAM(S): Chest, 2 views, frontal and lateral\\n\\nDATE\\nXXXX\\n\\nCOMPARISON\\nXXXX, XXXX\\n\\nINDICATION\\nXXXX, hypoxia.\\n\\nIMPRESSION\\nBorderline heart size. Elevated left diaphragm. Clear right lung. Tracheostomy tube tip above the carina. Extensive airspace disease in the left base. No large effusion or pneumothorax. \\n XXXX XXXX for the opportunity to care for your patient. If XXXX have any questions regarding this report, please XXXX the radiologist, Dr. XXXX XXXX, at XXXX.\\n\n",
      "29                                         \\nRADIOLOGY REPORT\\n\\nExam\\nChest x-XXXX XXXX and lateral, XXXX Indication: XXXX-year-old male with chest pain. Comparison: None Discussion: Lungs are clear without focal consolidation, effusion, or pneumothorax. Normal heart size. Negative for pneumoperitoneum. Bony thorax and soft tissue grossly unremarkable Transcribed by - PSC Transcription Date - XXXX\\n\\nIMPRESSION\\nNegative acute cardiopulmonary abnormality.\\n\\nSIGNATURE\\nXXXX\\n\\n\n",
      "30                                                                           \\nChest PA-Lat XR\\n\\nImaging Study\\nXray Chest PA and Lateral\\nExam: Xray Chest PA and Lateral \\n \\nDate: XXXX, XXXX XXXX PM \\n \\nHistory: XXXX DYSPNEA \\n \\nImpression:\\n \\nComparison XXXX, XXXX.\\n \\nSuggestion of slightly more prominent interstitial markings, which\\nmay represent some bronchitic/bronchiolitis changes. No suspicious\\nnodules, pneumonia, effusions, or CHF. Stable mediastinal contour.\\n\\n\n"
     ]
    }
   ],
   "source": [
    "# a mask is created for word  impression\n",
    "mask_keyword1 = dataFrame['Text'].str.contains(keywords[0], case=False, na=False)\n",
    "\n",
    "# a mask is created for word findings\n",
    "mask_keyword2 = dataFrame['Text'].str.contains(keywords[1], case=False, na=False)\n",
    "\n",
    "# Filter rows that contain only keyword1 (Impressions) and not keyword2\n",
    "# so it filters that includes impressions and removes ones with word findigs by applying reverse mask\n",
    "only_keyword1 = mask_keyword1 & ~mask_keyword2\n",
    "\n",
    "# Filter rows that contain only keyword2 and not keyword1\n",
    "only_keyword2 = mask_keyword2 & ~mask_keyword1\n",
    "\n",
    "print(dataFrame[only_keyword1].head())\n"
   ]
  }
 ],
 "metadata": {
  "kernelspec": {
   "display_name": "Python 3",
   "language": "python",
   "name": "python3"
  },
  "language_info": {
   "codemirror_mode": {
    "name": "ipython",
    "version": 3
   },
   "file_extension": ".py",
   "mimetype": "text/x-python",
   "name": "python",
   "nbconvert_exporter": "python",
   "pygments_lexer": "ipython3",
   "version": "3.9.6"
  }
 },
 "nbformat": 4,
 "nbformat_minor": 2
}
